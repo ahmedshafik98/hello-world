{
  "nbformat": 4,
  "nbformat_minor": 0,
  "metadata": {
    "colab": {
      "name": "testres.ipynb",
      "provenance": [],
      "collapsed_sections": [],
      "authorship_tag": "ABX9TyO8tcItW+JHektgoYSa43V0",
      "include_colab_link": true
    },
    "kernelspec": {
      "name": "python3",
      "display_name": "Python 3"
    }
  },
  "cells": [
    {
      "cell_type": "markdown",
      "metadata": {
        "id": "view-in-github",
        "colab_type": "text"
      },
      "source": [
        "<a href=\"https://colab.research.google.com/github/ahmedshafik98/hello-world/blob/master/testres.ipynb\" target=\"_parent\"><img src=\"https://colab.research.google.com/assets/colab-badge.svg\" alt=\"Open In Colab\"/></a>"
      ]
    },
    {
      "cell_type": "code",
      "metadata": {
        "id": "syi_PfvFE4IH",
        "colab_type": "code",
        "colab": {}
      },
      "source": [
        "import tensorflow as tf\n",
        "import numpy as np\n",
        "import pandas as pd\n",
        "from tensorflow import keras\n",
        "from tensorflow.keras import layers\n",
        "\n",
        "\n",
        "tf.keras.applications.ResNet50(\n",
        "    include_top=False,\n",
        "    weights=\"imagenet\",\n",
        "    input_tensor=None,\n",
        "    input_shape=None,\n",
        "    pooling=None,\n",
        "    classes=1000)\n",
        "    \n",
        "layer= keras.layers.Dense(3)\n",
        "layer.build((None,4))\n",
        "#layer.trainable=False\n",
        "print(\"weights:\", len(layer.weights))\n",
        "print(\"trainable_weights:\", len(layer.trainable_weights))\n",
        "print(\"non_trainable_weights:\", len(layer.non_trainable_weights))\n",
        "\n",
        "\n",
        "#make a model with 2 layers\n",
        "layer1=keras.layers.Dense(3,\"relu\")\n",
        "layer2=keras.layers.Dense(3,\"sigmoid\")\n",
        "model=keras.Sequential([keras.Input(shape=(3,)),layer1,layer2])\n",
        "\n",
        "#freeze 1st layer\n",
        "layer1.trainable=False\n",
        "#save 1st weights\n",
        "initiate_layer1_weights=layer1.get_weights()\n",
        "#train the model\n",
        "model.compile(optimizer=\"adam\",loss=\"mse\")\n",
        "model.fit(np.random.random((2,3)),np.random.random((2,3)))\n",
        "\n"
      ],
      "execution_count": null,
      "outputs": []
    },
    {
      "cell_type": "code",
      "metadata": {
        "id": "Xcbpks2c5oZr",
        "colab_type": "code",
        "colab": {}
      },
      "source": [
        "import tensorflow as tf\n",
        "import numpy as np\n",
        "import pandas as pd\n",
        "from tensorflow import keras\n",
        "from tensorflow.keras import layers\n",
        "from keras.models import Sequential\n",
        "from keras.layers import Dense\n",
        "import os\n",
        "model=Sequential()\n",
        "tf.keras.applications.ResNet50(\n",
        "    include_top=False,\n",
        "    weights=\"imagenet\",\n",
        "    input_tensor=None,\n",
        "    input_shape=None,\n",
        "    pooling='avg',\n",
        "    classes=2)\n",
        "model.add(Dense(2,'softmax'))\n",
        "model.layers[0].trainable=False\n",
        "\n",
        "model.compile(optimizer='sgd',loss='catigorical_crossentropy',metrics=['accuracy'])\n",
        "from keras.applications.resnet50 import preprocess_input\n",
        "from keras.preprocessing.image import ImageDataGenerator\n",
        "data_generator=ImageDataGenerator(preprocessing_function=preprocess_input)\n",
        "\n",
        "\n",
        "\n",
        "train_generator=data_generator.flow_from_directory('/content/drive/My Drive/new pic/imagecancer/train',target_size=(300,300),batch_size=12,class_mode='categorical')\n",
        "\n",
        "\n",
        "valid_generator=data_generator.flow_from_directory('/content/drive/My Drive/new pic/imagecancer/val',target_size=(300,300),batch_size=20,class_mode='catigorical')\n",
        "\n"
      ],
      "execution_count": null,
      "outputs": []
    },
    {
      "cell_type": "code",
      "metadata": {
        "id": "s-4boGKi4BMv",
        "colab_type": "code",
        "colab": {
          "base_uri": "https://localhost:8080/",
          "height": 34
        },
        "outputId": "73f25ec4-8aa2-4444-e9f5-0fbce41f4102"
      },
      "source": [
        "from google.colab import drive\n",
        "drive.mount('/content/drive/')"
      ],
      "execution_count": null,
      "outputs": [
        {
          "output_type": "stream",
          "text": [
            "Drive already mounted at /content/drive/; to attempt to forcibly remount, call drive.mount(\"/content/drive/\", force_remount=True).\n"
          ],
          "name": "stdout"
        }
      ]
    }
  ]
}